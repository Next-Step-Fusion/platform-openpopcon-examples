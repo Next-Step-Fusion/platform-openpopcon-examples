{
 "cells": [
  {
   "cell_type": "markdown",
   "metadata": {},
   "source": [
    "# OpenPOPCON MANTA example\n",
    "Welcome! This is an example usage of the OpenPOPCON scoping tool for the [MANTA](https://iopscience.iop.org/article/10.1088/1361-6587/ad6708) tokamak."
   ]
  },
  {
   "cell_type": "code",
   "execution_count": 1,
   "metadata": {},
   "outputs": [],
   "source": [
    "import sys\n",
    "import pathlib\n",
    "OP_HOME = './'\n",
    "sys.path.append(str(pathlib.Path(OP_HOME).resolve())) \n",
    "#–––––––––––––––––––––––––––––––––––––––––––––––––––––––––––––––––––––––\n",
    "# ^^^ This must be done to import the openpopcon module from the src directory.\n",
    "# When running this from another directory, change the OP_HOME variable to the\n",
    "# path of the openpopcon directory.\n",
    "#–––––––––––––––––––––––––––––––––––––––––––––––––––––––––––––––––––––––\n",
    "import numpy as np\n",
    "import openpopcon as op\n",
    "\n",
    "%reload_ext autoreload\n",
    "%autoreload 2"
   ]
  },
  {
   "cell_type": "markdown",
   "metadata": {},
   "source": [
    "## Setup\n",
    "The POPCON object requires three settings files in the yaml format.\n",
    "The first, 'settingsfile', contains the physical parameters for the tokamak, as well as algorithm information. \n",
    "The second, 'plotsettingsfile', contains the settings for the plots. This can be updated after plotting to change the appearance of the plots, without restarting the jupyter notebook.\n",
    "The third, 'scalinglawfile', you will not necessarily need to change, but it contains the confinement time $\\tau_E$ scaling laws for the simulation.\n",
    "\n",
    "When you run this on your own, it is recommended that you copy the first two settings files and modify them to suit your needs; you can leave scalinglawfile as is."
   ]
  },
  {
   "cell_type": "code",
   "execution_count": null,
   "metadata": {},
   "outputs": [],
   "source": [
    "settingsfile = \"examples/MANTA/POPCON_input_example.yaml\"\n",
    "plotsettingsfile = \"examples/MANTA/plotsettings.yml\"\n",
    "scalinglawfile = \"./scalinglaws.yml\"\n",
    "\n",
    "pc = op.POPCON(settingsfile=settingsfile, \n",
    "               plotsettingsfile=plotsettingsfile, \n",
    "               scalinglawfile=scalinglawfile)"
   ]
  },
  {
   "cell_type": "markdown",
   "metadata": {},
   "source": [
    "## Running the code\n",
    "\n",
    "To run the code, simply run the cell below. This will run the simulation.\n",
    "\n",
    "OpenPOPCON uses numba 'just in time' (jit) compilation to speed up the simulation. This means that the first time you run the simulation, it will take a little longer to compile the code. Subsequent runs will be faster, until you restart the jupyter notebook kernel, at which the compilation will be required again."
   ]
  },
  {
   "cell_type": "code",
   "execution_count": null,
   "metadata": {},
   "outputs": [],
   "source": [
    "# This runs the POPCON\n",
    "pc.run_POPCON()"
   ]
  },
  {
   "cell_type": "markdown",
   "metadata": {},
   "source": [
    "## Plotting\n",
    "The POPCON object has a method, 'plot', which will plot the results of the simulation. This method takes the settings from the 'plotsettingsfile' and plots the results. You can modify the 'plotsettingsfile' and rerun both 'update_plotsettings' and the plot method to see the changes.\n",
    "\n",
    "There is also the method 'custom_plot' which allows you to plot any array on top of the simulation results. This can be useful if you have a specific quantity that is not calculated by default."
   ]
  },
  {
   "cell_type": "code",
   "execution_count": null,
   "metadata": {},
   "outputs": [],
   "source": [
    "pc.update_plotsettings()\n",
    "fig, ax = pc.plot(show=False)\n",
    "\n",
    "# Example of how to plot a custom quantity\n",
    "P_synchotron = np.empty((pc.settings.Nn, pc.settings.NTi))\n",
    "rho = pc.algorithms.sqrtpsin\n",
    "for i in range(pc.settings.Nn):\n",
    "    for j in range(pc.settings.NTi):\n",
    "        P_synchotron[i,j] = pc.algorithms.volume_integral(rho, pc.algorithms._P_brem_rad(rho, pc.output.T_e_max[j], pc.output.n_e_20_max[i]))\n",
    "pc.custom_plot(fig, ax, P_synchotron, np.linspace(np.min(P_synchotron), np.max(P_synchotron), 5), 'teal', 1., r'$P_{synch}$')\n",
    "ax.legend(bbox_to_anchor=(1, 1), loc='upper left')\n",
    "fig.show()"
   ]
  },
  {
   "cell_type": "markdown",
   "metadata": {},
   "source": [
    "## Scoping operation points\n",
    "\n",
    "POPCONs, or 'Plasma OPerating CONtours', show a wide range of operating points for a given tokamak. The 'single_point' method lets you explore a single pair of density/temperatures, and look at the resulting profiles. "
   ]
  },
  {
   "cell_type": "code",
   "execution_count": null,
   "metadata": {},
   "outputs": [],
   "source": [
    "pc.single_point(n_G_frac=0.88,Ti_av=7.3)"
   ]
  },
  {
   "cell_type": "markdown",
   "metadata": {},
   "source": [
    "## Reading and writing outputs\n",
    "\n",
    "Running this simulation large quantities of times can be time consuming. Saving and loading of POPCON outputs is enabled so that you can save the results of a simulation and load them later to edit the plots. Outputs are saved to the 'outputs' directory as either a folder or a zip archive. See below."
   ]
  },
  {
   "cell_type": "code",
   "execution_count": null,
   "metadata": {},
   "outputs": [],
   "source": [
    "pc.write_output(name='manta_example', archive=False, overwrite=True, directory='/home/jovyan/work/OpenPOPCON/output')"
   ]
  },
  {
   "cell_type": "code",
   "execution_count": null,
   "metadata": {},
   "outputs": [],
   "source": [
    "pcread = op.POPCON()\n",
    "pcread.read_output('manta_example', directory='/home/jovyan/work/OpenPOPCON/output')\n",
    "pcread.plot()"
   ]
  },
  {
   "cell_type": "code",
   "execution_count": null,
   "metadata": {},
   "outputs": [],
   "source": []
  }
 ],
 "metadata": {
  "kernelspec": {
   "display_name": "Python 3 (ipykernel)",
   "language": "python",
   "name": "python3"
  },
  "language_info": {
   "codemirror_mode": {
    "name": "ipython",
    "version": 3
   },
   "file_extension": ".py",
   "mimetype": "text/x-python",
   "name": "python",
   "nbconvert_exporter": "python",
   "pygments_lexer": "ipython3",
   "version": "3.11.9"
  }
 },
 "nbformat": 4,
 "nbformat_minor": 4
}
